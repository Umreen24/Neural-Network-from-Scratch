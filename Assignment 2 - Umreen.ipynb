{
 "cells": [
  {
   "cell_type": "markdown",
   "id": "martial-burner",
   "metadata": {},
   "source": [
    "# CS 6304 Fall 2021 - Assignment 2 \n",
    "## Umreen Imam "
   ]
  },
  {
   "cell_type": "markdown",
   "id": "valid-genre",
   "metadata": {},
   "source": [
    "### Import Packages"
   ]
  },
  {
   "cell_type": "code",
   "execution_count": 16,
   "id": "respected-gnome",
   "metadata": {},
   "outputs": [],
   "source": [
    "import numpy as np\n",
    "import math"
   ]
  },
  {
   "cell_type": "markdown",
   "id": "statewide-doctor",
   "metadata": {},
   "source": [
    "### Load datasets & Delcare Weight Arrays"
   ]
  },
  {
   "cell_type": "code",
   "execution_count": 17,
   "id": "laughing-coordinator",
   "metadata": {},
   "outputs": [],
   "source": [
    "test_class = np.loadtxt('test_class.txt', delimiter = ',')\n",
    "test_data = np.loadtxt('testdata.txt', delimiter = ',')"
   ]
  },
  {
   "cell_type": "code",
   "execution_count": 18,
   "id": "handled-equity",
   "metadata": {},
   "outputs": [
    {
     "name": "stdout",
     "output_type": "stream",
     "text": [
      "[ 1.3438 -0.6225  0.3509 -1.7072 -1.1398  0.3944  1.3882 -0.8676]\n",
      "[ 0.8061  0.2354 -0.4092 -0.8999 -0.5538 -0.1916  0.0288  0.4918]\n"
     ]
    }
   ],
   "source": [
    "weights_one = np.array([1.3438, -0.6225, 0.3509, -1.7072, -1.1398, 0.3944, 1.3882, -0.8676])\n",
    "weights_two = np.array([0.8061, 0.2354, -0.4092, -0.8999, -0.5538, -0.1916, 0.0288, 0.4918])\n",
    "\n",
    "print(weights_one)\n",
    "print(weights_two)"
   ]
  },
  {
   "cell_type": "markdown",
   "id": "built-updating",
   "metadata": {},
   "source": [
    "### Create Neural Network\n",
    "\n",
    "The Neural Network class will be a blueprint that contains the number of layers, weights, and activation functions. The goal is to build a network from scratch and compute output signals to determine which weight set (1 or 2) is the most accurate for prediction. \n",
    "\n",
    "#### Information given \n",
    "\n",
    "The information given is as follows: \n",
    "\n",
    "- There is one input layer with two nodes\n",
    "- There is one hidden layer with two nodes \n",
    "- There is one output layer with two nodes (first node for class 0 and the second for class 1)\n",
    "- Activation functions used are 'ReLU' (for the hidden layer) and 'softmax' (for the output layer)\n",
    "- The network model works for a dataset with two predictors and two classes \n",
    "- All biases are zero\n",
    "\n",
    "Let $y_i$ = output signal from $i_{th}$ neuron in the output layer. Since there are two neurons in output layer, *i* = 1, 2. Let $I_i$ be the input signal to neuron *i* in the output layer. Then we have\n",
    "\n",
    "- $y_1$ = $softmax(I_1)$ = $exp(I_1)$ / $\\Sigma^2_{i= 1}$ * $exp(I_i)$\n",
    "- $y_2$ = $softmax(I_2)$ = $exp(I_2)$ / $\\Sigma^2_{i= 1}$ * $exp(I_i)$\n",
    "\n",
    "Let $H_i$ = output signal from $i_{th}$ neuron in the hidden layer. Since there are two neurons in hidden layer, *i* = 1, 2. Let $J_i$ be the input signal to neuron *i* in the hidden layer. Then we have \n",
    "\n",
    "- $H_1$ = $ReLU(J_1)$ = $max(0, J_1)$"
   ]
  },
  {
   "cell_type": "markdown",
   "id": "forbidden-application",
   "metadata": {},
   "source": [
    "### Define neural network class"
   ]
  },
  {
   "cell_type": "code",
   "execution_count": 19,
   "id": "final-criticism",
   "metadata": {},
   "outputs": [],
   "source": [
    "class NeuralNetwork():\n",
    "    \n",
    "    def __init__(self):\n",
    "        self.params = {}\n",
    "\n",
    "    def initialize_input(self, inputs, weights):\n",
    "        self.params['W1'] = weights[0]\n",
    "        self.params['W2'] = weights[1]\n",
    "        self.params['W3'] = weights[2]\n",
    "        self.params['W4'] = weights[3]\n",
    "        \n",
    "        input_one = inputs[0]\n",
    "        input_two = inputs[1]\n",
    "        \n",
    "        j1 = (self.params['W1'] * input_one) + (self.params['W2'] * input_two)\n",
    "        j2 = (self.params['W3'] * input_one) + (self.params['W4'] * input_two)\n",
    "        return j1, j2\n",
    "\n",
    "    def relu(self, j1, j2):\n",
    "        h1 = np.maximum(0, j1)\n",
    "        h2 = np.maximum(0, j2)\n",
    "        return h1, h2\n",
    "\n",
    "    def compute_i(self, h1, h2, weights):\n",
    "        self.params['W5'] = weights[4]\n",
    "        self.params['W6'] = weights[5]\n",
    "        self.params['W7'] = weights[6]\n",
    "        self.params['W8'] = weights[7]\n",
    "        \n",
    "        i1 = (self.params['W5'] * h1) + (self.params['W6'] * h2)\n",
    "        i2 = (self.params['W7'] * h1) + (self.params['W8'] * h2)\n",
    "        return i1, i2\n",
    "\n",
    "    def softmax(self, i1, i2):\n",
    "        y1 = math.exp(i1) / (math.exp(i1) + math.exp(i2))\n",
    "        y2 = math.exp(i2) / (math.exp(i1) + math.exp(i2))\n",
    "        return y1, y2\n",
    "\n",
    "    def compute(self, y1, y2):\n",
    "        if y1 > y2:\n",
    "            result = 0\n",
    "        else:\n",
    "            result = 1\n",
    "\n",
    "        return result\n",
    "        "
   ]
  },
  {
   "cell_type": "markdown",
   "id": "injured-israeli",
   "metadata": {},
   "source": [
    "### Create class instance & run methods"
   ]
  },
  {
   "cell_type": "code",
   "execution_count": 20,
   "id": "governmental-referral",
   "metadata": {},
   "outputs": [],
   "source": [
    "nn = NeuralNetwork()\n",
    "test = test_data.shape[0]\n",
    "\n",
    "# Run functions for weights_one\n",
    "res_one = []\n",
    "for x in range(test):\n",
    "    j1, j2 = nn.initialize_input(test_data[x], weights_one)\n",
    "    h1, h2 = nn.relu(j1, j2)\n",
    "    i1, i2 = nn.compute_i(h1, h2, weights_one)\n",
    "    y1, y2 = nn.softmax(i1, i2)\n",
    "    result = nn.compute(y1, y2)\n",
    "    res_one.append(result)\n",
    "    \n",
    "# Run functions for weights_two\n",
    "res_two = []\n",
    "for y in range(test):\n",
    "    j1, j2 = nn.initialize_input(test_data[y], weights_two)\n",
    "    h1, h2 = nn.relu(j1, j2)\n",
    "    i1, i2 = nn.compute_i(h1, h2, weights_two)\n",
    "    y1, y2 = nn.softmax(i1, i2)\n",
    "    result = nn.compute(y1, y2)\n",
    "    res_two.append(result)"
   ]
  },
  {
   "cell_type": "markdown",
   "id": "invisible-willow",
   "metadata": {},
   "source": [
    "### Compute accuracy"
   ]
  },
  {
   "cell_type": "code",
   "execution_count": 21,
   "id": "historic-rebecca",
   "metadata": {},
   "outputs": [],
   "source": [
    "# Create accuracy function\n",
    "def accuracy_measure(actual, predicted):\n",
    "    correct = 0\n",
    "    for i in range(len(actual)):\n",
    "        if actual[i] == predicted[i]:\n",
    "            correct += 1\n",
    "    return correct / float(len(actual)) * 100.0"
   ]
  },
  {
   "cell_type": "code",
   "execution_count": 22,
   "id": "facial-selling",
   "metadata": {},
   "outputs": [],
   "source": [
    "# Compute accuracy for weights_one\n",
    "weghts_one_accuracy = accuracy_measure(test_class, res_one)\n",
    "\n",
    "# Compute accuracy for weights_two\n",
    "weights_two_accuracy = accuracy_measure(test_class, res_two)"
   ]
  },
  {
   "cell_type": "code",
   "execution_count": 23,
   "id": "toxic-money",
   "metadata": {},
   "outputs": [
    {
     "name": "stdout",
     "output_type": "stream",
     "text": [
      "Weights set one accuracy is 91.13%\n",
      "Weights set two accuracy is 34.48%\n"
     ]
    }
   ],
   "source": [
    "print(\"Weights set one accuracy is {}%\".format(round(weghts_one_accuracy, 2)))\n",
    "print(\"Weights set two accuracy is {}%\".format(round(weights_two_accuracy, 2)))"
   ]
  },
  {
   "cell_type": "markdown",
   "id": "supreme-marathon",
   "metadata": {},
   "source": [
    "### Observations\n",
    "\n",
    "According to the computations above, weights set one is a better trained model."
   ]
  }
 ],
 "metadata": {
  "kernelspec": {
   "display_name": "Python 3",
   "language": "python",
   "name": "python3"
  },
  "language_info": {
   "codemirror_mode": {
    "name": "ipython",
    "version": 3
   },
   "file_extension": ".py",
   "mimetype": "text/x-python",
   "name": "python",
   "nbconvert_exporter": "python",
   "pygments_lexer": "ipython3",
   "version": "3.8.5"
  }
 },
 "nbformat": 4,
 "nbformat_minor": 5
}
